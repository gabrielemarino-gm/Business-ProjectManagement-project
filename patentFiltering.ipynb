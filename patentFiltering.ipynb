{
 "cells": [
  {
   "cell_type": "markdown",
   "id": "b8e670b1",
   "metadata": {},
   "source": [
    "## Patent Filtering"
   ]
  },
  {
   "cell_type": "markdown",
   "id": "4ae87b67",
   "metadata": {},
   "source": [
    "We want to find all the patents containing informations about face recognition. So we iterate through all the available files and select the ones with \"face recognition\" in them and move them to a directory \"MyPatents\"."
   ]
  },
  {
   "cell_type": "code",
   "execution_count": null,
   "id": "4c3a194c",
   "metadata": {},
   "outputs": [],
   "source": [
    "import os\n",
    "import re\n",
    "import shutil\n",
    "path = 'C:\\\\Users\\\\Stefano\\\\Desktop\\\\Stefano\\\\Business\\\\Project\\\\Material\\\\AI_patents_2020_2021_claim'\n",
    "print(\"Getting files...\")\n",
    "# getting all files from the directory given by the path\n",
    "files = os.listdir(path)\n",
    "# moving to the desired directory\n",
    "os.chdir(path)\n",
    "text = \"\"\n",
    "cur_text = \"\"\n",
    "print(\"START!\")\n",
    "for filename in files:\n",
    "    file = open(filename, encoding=\"utf-8\")\n",
    "    #print(\"A file! \"+filename)\n",
    "    cur_text = file.read(); # read file content\n",
    "    match = re.findall(r'\\bface recognition\\b', cur_text) # we search for a match for \"face recognition\" in the current file\n",
    "    if match: # this means: if match exists\n",
    "        print(\"\\n\")\n",
    "        print(\"MATCH! \"+filename)\n",
    "        text += file.read() # all the text with the desired content is put together\n",
    "        # we define the original path of the file and the path in which we will copy it to\n",
    "        origin = 'C:\\\\Users\\\\Stefano\\\\Desktop\\\\Stefano\\\\Business\\\\Project\\\\Material\\\\AI_patents_2020_2021_claim\\\\'+filename\n",
    "        target = 'C:\\\\Users\\\\Stefano\\\\Desktop\\\\Stefano\\\\Business\\\\Project\\\\Material\\\\MyPatents\\\\'+filename\n",
    "        shutil.copyfile(origin, target) # copies the file from path origin to path target\n",
    "    #    print(\"\\n\")\n",
    "    #    print(text)\n",
    "print(\"END!\")\n"
   ]
  }
 ],
 "metadata": {
  "kernelspec": {
   "display_name": "Python 3 (ipykernel)",
   "language": "python",
   "name": "python3"
  },
  "language_info": {
   "codemirror_mode": {
    "name": "ipython",
    "version": 3
   },
   "file_extension": ".py",
   "mimetype": "text/x-python",
   "name": "python",
   "nbconvert_exporter": "python",
   "pygments_lexer": "ipython3",
   "version": "3.9.7"
  }
 },
 "nbformat": 4,
 "nbformat_minor": 5
}
